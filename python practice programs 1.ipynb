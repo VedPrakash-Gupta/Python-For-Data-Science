{
 "cells": [
  {
   "cell_type": "code",
   "execution_count": 5,
   "id": "7181cb2d",
   "metadata": {},
   "outputs": [
    {
     "name": "stdout",
     "output_type": "stream",
     "text": [
      "The Zen of Python, by Tim Peters\n",
      "\n",
      "Beautiful is better than ugly.\n",
      "Explicit is better than implicit.\n",
      "Simple is better than complex.\n",
      "Complex is better than complicated.\n",
      "Flat is better than nested.\n",
      "Sparse is better than dense.\n",
      "Readability counts.\n",
      "Special cases aren't special enough to break the rules.\n",
      "Although practicality beats purity.\n",
      "Errors should never pass silently.\n",
      "Unless explicitly silenced.\n",
      "In the face of ambiguity, refuse the temptation to guess.\n",
      "There should be one-- and preferably only one --obvious way to do it.\n",
      "Although that way may not be obvious at first unless you're Dutch.\n",
      "Now is better than never.\n",
      "Although never is often better than *right* now.\n",
      "If the implementation is hard to explain, it's a bad idea.\n",
      "If the implementation is easy to explain, it may be a good idea.\n",
      "Namespaces are one honking great idea -- let's do more of those!\n"
     ]
    }
   ],
   "source": [
    "import this"
   ]
  },
  {
   "cell_type": "code",
   "execution_count": null,
   "id": "c3cd2942",
   "metadata": {},
   "outputs": [],
   "source": []
  },
  {
   "cell_type": "code",
   "execution_count": 22,
   "id": "578f0357",
   "metadata": {},
   "outputs": [
    {
     "name": "stdout",
     "output_type": "stream",
     "text": [
      " first thing\n"
     ]
    }
   ],
   "source": [
    "print(\" first thing\")"
   ]
  },
  {
   "cell_type": "code",
   "execution_count": 8,
   "id": "47c55bfc",
   "metadata": {},
   "outputs": [
    {
     "data": {
      "text/plain": [
       "3"
      ]
     },
     "execution_count": 8,
     "metadata": {},
     "output_type": "execute_result"
    }
   ],
   "source": [
    "1+2"
   ]
  },
  {
   "cell_type": "code",
   "execution_count": 9,
   "id": "4161a08a",
   "metadata": {},
   "outputs": [
    {
     "data": {
      "text/plain": [
       "0.42857142857142855"
      ]
     },
     "execution_count": 9,
     "metadata": {},
     "output_type": "execute_result"
    }
   ],
   "source": [
    "3/7"
   ]
  },
  {
   "cell_type": "code",
   "execution_count": 10,
   "id": "e0b9fd9e",
   "metadata": {},
   "outputs": [],
   "source": [
    "a = 10"
   ]
  },
  {
   "cell_type": "code",
   "execution_count": 12,
   "id": "1a2ceb90",
   "metadata": {},
   "outputs": [],
   "source": [
    "ved = 12345"
   ]
  },
  {
   "cell_type": "code",
   "execution_count": 13,
   "id": "dabc6702",
   "metadata": {},
   "outputs": [
    {
     "data": {
      "text/plain": [
       "12345"
      ]
     },
     "execution_count": 13,
     "metadata": {},
     "output_type": "execute_result"
    }
   ],
   "source": [
    "ved"
   ]
  },
  {
   "cell_type": "code",
   "execution_count": 14,
   "id": "37877b7b",
   "metadata": {},
   "outputs": [
    {
     "data": {
      "text/plain": [
       "int"
      ]
     },
     "execution_count": 14,
     "metadata": {},
     "output_type": "execute_result"
    }
   ],
   "source": [
    " type(a)"
   ]
  },
  {
   "cell_type": "code",
   "execution_count": 15,
   "id": "4336d930",
   "metadata": {},
   "outputs": [],
   "source": [
    "b = 10.38"
   ]
  },
  {
   "cell_type": "code",
   "execution_count": 16,
   "id": "6d49f06c",
   "metadata": {},
   "outputs": [
    {
     "data": {
      "text/plain": [
       "float"
      ]
     },
     "execution_count": 16,
     "metadata": {},
     "output_type": "execute_result"
    }
   ],
   "source": [
    "type(b)"
   ]
  },
  {
   "cell_type": "code",
   "execution_count": 17,
   "id": "7eb2112b",
   "metadata": {},
   "outputs": [],
   "source": [
    "v = \"ved\""
   ]
  },
  {
   "cell_type": "code",
   "execution_count": 18,
   "id": "a074190b",
   "metadata": {},
   "outputs": [
    {
     "data": {
      "text/plain": [
       "str"
      ]
     },
     "execution_count": 18,
     "metadata": {},
     "output_type": "execute_result"
    }
   ],
   "source": [
    "type(v)"
   ]
  },
  {
   "cell_type": "code",
   "execution_count": 19,
   "id": "a582837c",
   "metadata": {},
   "outputs": [],
   "source": [
    "d = 3 +5j"
   ]
  },
  {
   "cell_type": "code",
   "execution_count": 20,
   "id": "27f8df1c",
   "metadata": {},
   "outputs": [
    {
     "data": {
      "text/plain": [
       "(3+5j)"
      ]
     },
     "execution_count": 20,
     "metadata": {},
     "output_type": "execute_result"
    }
   ],
   "source": [
    "d"
   ]
  },
  {
   "cell_type": "code",
   "execution_count": 21,
   "id": "a3d4dfdb",
   "metadata": {},
   "outputs": [
    {
     "data": {
      "text/plain": [
       "complex"
      ]
     },
     "execution_count": 21,
     "metadata": {},
     "output_type": "execute_result"
    }
   ],
   "source": [
    "type(d)"
   ]
  },
  {
   "cell_type": "code",
   "execution_count": 23,
   "id": "50b575dd",
   "metadata": {},
   "outputs": [
    {
     "data": {
      "text/plain": [
       "'C:\\\\Users\\\\vedpr\\\\OneDrive\\\\Desktop\\\\Data Science\\\\Python for Data Science'"
      ]
     },
     "execution_count": 23,
     "metadata": {},
     "output_type": "execute_result"
    }
   ],
   "source": [
    "pwd"
   ]
  },
  {
   "cell_type": "code",
   "execution_count": 24,
   "id": "c5bfa15f",
   "metadata": {},
   "outputs": [],
   "source": [
    "v = \"vedprakash\""
   ]
  },
  {
   "cell_type": "code",
   "execution_count": 25,
   "id": "f63f75d7",
   "metadata": {},
   "outputs": [
    {
     "data": {
      "text/plain": [
       "'e'"
      ]
     },
     "execution_count": 25,
     "metadata": {},
     "output_type": "execute_result"
    }
   ],
   "source": [
    "v[1]"
   ]
  },
  {
   "cell_type": "code",
   "execution_count": 26,
   "id": "c08e9763",
   "metadata": {},
   "outputs": [
    {
     "data": {
      "text/plain": [
       "'v'"
      ]
     },
     "execution_count": 26,
     "metadata": {},
     "output_type": "execute_result"
    }
   ],
   "source": [
    "v[0]"
   ]
  },
  {
   "cell_type": "code",
   "execution_count": 27,
   "id": "f27be3fa",
   "metadata": {},
   "outputs": [
    {
     "data": {
      "text/plain": [
       "'ved'"
      ]
     },
     "execution_count": 27,
     "metadata": {},
     "output_type": "execute_result"
    }
   ],
   "source": [
    " v[0:3]"
   ]
  },
  {
   "cell_type": "code",
   "execution_count": 28,
   "id": "afc975a6",
   "metadata": {},
   "outputs": [
    {
     "data": {
      "text/plain": [
       "'vedprakash'"
      ]
     },
     "execution_count": 28,
     "metadata": {},
     "output_type": "execute_result"
    }
   ],
   "source": [
    "v[0:100]"
   ]
  },
  {
   "cell_type": "code",
   "execution_count": 29,
   "id": "e31f6047",
   "metadata": {},
   "outputs": [
    {
     "data": {
      "text/plain": [
       "'vdrks'"
      ]
     },
     "execution_count": 29,
     "metadata": {},
     "output_type": "execute_result"
    }
   ],
   "source": [
    "v[0:300:2]"
   ]
  },
  {
   "cell_type": "code",
   "execution_count": 30,
   "id": "c6b13897",
   "metadata": {},
   "outputs": [
    {
     "data": {
      "text/plain": [
       "''"
      ]
     },
     "execution_count": 30,
     "metadata": {},
     "output_type": "execute_result"
    }
   ],
   "source": [
    "v[0:100:-2]"
   ]
  },
  {
   "cell_type": "code",
   "execution_count": 39,
   "id": "69515476",
   "metadata": {},
   "outputs": [
    {
     "data": {
      "text/plain": [
       "'hd'"
      ]
     },
     "execution_count": 39,
     "metadata": {},
     "output_type": "execute_result"
    }
   ],
   "source": [
    "v[-1:-300:-7]"
   ]
  },
  {
   "cell_type": "code",
   "execution_count": null,
   "id": "18222c4b",
   "metadata": {},
   "outputs": [],
   "source": []
  }
 ],
 "metadata": {
  "kernelspec": {
   "display_name": "Python 3 (ipykernel)",
   "language": "python",
   "name": "python3"
  },
  "language_info": {
   "codemirror_mode": {
    "name": "ipython",
    "version": 3
   },
   "file_extension": ".py",
   "mimetype": "text/x-python",
   "name": "python",
   "nbconvert_exporter": "python",
   "pygments_lexer": "ipython3",
   "version": "3.9.7"
  }
 },
 "nbformat": 4,
 "nbformat_minor": 5
}
